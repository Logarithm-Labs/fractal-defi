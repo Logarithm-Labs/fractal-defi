{
 "cells": [
  {
   "cell_type": "markdown",
   "id": "a1640bc6",
   "metadata": {},
   "source": [
    "### get data"
   ]
  },
  {
   "cell_type": "code",
   "execution_count": 43,
   "id": "f02b1935",
   "metadata": {},
   "outputs": [
    {
     "name": "stdout",
     "output_type": "stream",
     "text": [
      "/home/nuat/projects/fractal-defi\n"
     ]
    }
   ],
   "source": [
    "# change directory here\n",
    "%cd /home/nuat/projects/fractal-defi\n",
    "from examples.ml_funding_rate_forecasting.utils.get_data import (\n",
    "    get_list_top_n_tickers, \n",
    "    download_spot_future_fr_data\n",
    ")\n",
    "from examples.ml_funding_rate_forecasting.utils.process_data import (\n",
    "    process_ticker\n",
    ")\n",
    "from examples.ml_funding_rate_forecasting.utils.create_features import (\n",
    "    extract_time_series_features,\n",
    "    extract_features,\n",
    "    rsi,\n",
    "    mfi,\n",
    "    ema\n",
    ")\n",
    "from examples.ml_funding_rate_forecasting.utils.metrics import (\n",
    "    smape\n",
    ")"
   ]
  },
  {
   "cell_type": "code",
   "execution_count": 21,
   "id": "12974f47",
   "metadata": {},
   "outputs": [],
   "source": [
    "import pandas as pd\n",
    "import numpy as np\n",
    "from tqdm import tqdm\n",
    "from datetime import datetime, timedelta\n",
    "\n",
    "from catboost import CatBoostRegressor\n",
    "\n",
    "from sklearn.decomposition import PCA\n",
    "from sklearn.preprocessing import StandardScaler\n",
    "from sklearn.cluster import KMeans, DBSCAN, AgglomerativeClustering, SpectralClustering\n",
    "from sklearn.manifold import TSNE\n",
    "import hdbscan\n",
    "\n",
    "import matplotlib.pyplot as plt\n",
    "import seaborn as sns\n",
    "from statsmodels.tsa.statespace.sarimax import SARIMAX\n",
    "import warnings\n",
    "warnings.filterwarnings(\"ignore\")"
   ]
  },
  {
   "cell_type": "code",
   "execution_count": 3,
   "id": "a9e00897",
   "metadata": {},
   "outputs": [],
   "source": [
    "current_time = datetime(\n",
    "    year = 2025, \n",
    "    month = 4, \n",
    "    day = 16\n",
    ")\n",
    "years = 1\n",
    "delta = timedelta(days=365 * years)\n",
    "start_time = current_time - delta"
   ]
  },
  {
   "cell_type": "code",
   "execution_count": 4,
   "id": "7437e0a3",
   "metadata": {},
   "outputs": [
    {
     "name": "stderr",
     "output_type": "stream",
     "text": [
      "100%|██████████| 1/1 [00:30<00:00, 30.87s/it]\n"
     ]
    }
   ],
   "source": [
    "list_top_n_tickers = get_list_top_n_tickers(1)\n",
    "\n",
    "download_spot_future_fr_data(\n",
    "    futures_spot_tickers=list_top_n_tickers, \n",
    "    start_timestamp=start_time,\n",
    "    end_timstamp=current_time,\n",
    "    interval='1h'\n",
    ")"
   ]
  },
  {
   "cell_type": "markdown",
   "id": "a72c325a",
   "metadata": {},
   "source": [
    "### process data"
   ]
  },
  {
   "cell_type": "code",
   "execution_count": 5,
   "id": "31713a4d",
   "metadata": {},
   "outputs": [
    {
     "name": "stderr",
     "output_type": "stream",
     "text": [
      "100%|██████████| 1/1 [00:00<00:00, 35.74it/s]\n"
     ]
    }
   ],
   "source": [
    "data = {}\n",
    "for ticker in tqdm(list_top_n_tickers):\n",
    "    df_tmp = process_ticker(ticker)\n",
    "    data[ticker] = df_tmp"
   ]
  },
  {
   "cell_type": "code",
   "execution_count": 6,
   "id": "cc204b75",
   "metadata": {},
   "outputs": [],
   "source": [
    "features_list = []\n",
    "tickers = []\n",
    "\n",
    "for ticker, df in data.items():\n",
    "\n",
    "    if df.shape[0]:\n",
    "        train_size = int(df.shape[0] * 0.8)\n",
    "        df = df.iloc[1:train_size]\n",
    "        df = df.iloc[7::8]\n",
    "\n",
    "        if df.shape[0] <= 300:\n",
    "            print(ticker)\n",
    "            continue\n",
    "\n",
    "        fr_series = df['fundingRate']\n",
    "        feats = extract_time_series_features(fr_series)\n",
    "\n",
    "        if feats:\n",
    "            features_list.append(feats)\n",
    "            tickers.append(ticker)\n",
    "    else:\n",
    "        print(ticker)\n",
    "\n",
    "features_df = pd.DataFrame(features_list, index=tickers)"
   ]
  },
  {
   "cell_type": "code",
   "execution_count": 7,
   "id": "701d296b",
   "metadata": {},
   "outputs": [
    {
     "data": {
      "text/html": [
       "<div>\n",
       "<style scoped>\n",
       "    .dataframe tbody tr th:only-of-type {\n",
       "        vertical-align: middle;\n",
       "    }\n",
       "\n",
       "    .dataframe tbody tr th {\n",
       "        vertical-align: top;\n",
       "    }\n",
       "\n",
       "    .dataframe thead th {\n",
       "        text-align: right;\n",
       "    }\n",
       "</style>\n",
       "<table border=\"1\" class=\"dataframe\">\n",
       "  <thead>\n",
       "    <tr style=\"text-align: right;\">\n",
       "      <th></th>\n",
       "      <th>std</th>\n",
       "      <th>mean_abs_change</th>\n",
       "      <th>acf_lag1</th>\n",
       "      <th>acf_lag2</th>\n",
       "      <th>acf_lag3</th>\n",
       "      <th>trend_slope</th>\n",
       "      <th>trend_r2</th>\n",
       "      <th>rolling_std_24</th>\n",
       "      <th>rolling_mean_24</th>\n",
       "      <th>sign_changes</th>\n",
       "      <th>spike_count_z3</th>\n",
       "      <th>skew</th>\n",
       "      <th>kurtosis</th>\n",
       "      <th>mean_reversion_strength</th>\n",
       "    </tr>\n",
       "  </thead>\n",
       "  <tbody>\n",
       "    <tr>\n",
       "      <th>ETHUSDT</th>\n",
       "      <td>0.726729</td>\n",
       "      <td>0.299383</td>\n",
       "      <td>0.751267</td>\n",
       "      <td>0.677566</td>\n",
       "      <td>0.662993</td>\n",
       "      <td>0.000719</td>\n",
       "      <td>0.062586</td>\n",
       "      <td>0.370212</td>\n",
       "      <td>0.977511</td>\n",
       "      <td>0.065143</td>\n",
       "      <td>0.020571</td>\n",
       "      <td>1.996639</td>\n",
       "      <td>9.742366</td>\n",
       "      <td>-0.751267</td>\n",
       "    </tr>\n",
       "  </tbody>\n",
       "</table>\n",
       "</div>"
      ],
      "text/plain": [
       "              std  mean_abs_change  acf_lag1  acf_lag2  acf_lag3  trend_slope  \\\n",
       "ETHUSDT  0.726729         0.299383  0.751267  0.677566  0.662993     0.000719   \n",
       "\n",
       "         trend_r2  rolling_std_24  rolling_mean_24  sign_changes  \\\n",
       "ETHUSDT  0.062586        0.370212         0.977511      0.065143   \n",
       "\n",
       "         spike_count_z3      skew  kurtosis  mean_reversion_strength  \n",
       "ETHUSDT        0.020571  1.996639  9.742366                -0.751267  "
      ]
     },
     "execution_count": 7,
     "metadata": {},
     "output_type": "execute_result"
    }
   ],
   "source": [
    "features_df.head()"
   ]
  },
  {
   "cell_type": "markdown",
   "id": "8c1b9170",
   "metadata": {},
   "source": [
    "### clusters"
   ]
  },
  {
   "cell_type": "markdown",
   "id": "722b847e",
   "metadata": {},
   "source": [
    "Two clustering options:\n",
    "1. according to the features extracted from the funding rate\n",
    "2. according to market indicators extracted from the asset price (relative, such as MFI, RSI, etc.)"
   ]
  },
  {
   "cell_type": "code",
   "execution_count": null,
   "id": "c93c1af0",
   "metadata": {},
   "outputs": [],
   "source": [
    "sns.clustermap(features_df['sign_changes'], cmap=\"vlag\", col_cluster=False)\n",
    "# plt.savefig('images/heatmap_sign_changes.png')"
   ]
  },
  {
   "cell_type": "code",
   "execution_count": null,
   "id": "729d3e60",
   "metadata": {},
   "outputs": [],
   "source": [
    "sns.clustermap(features_df['mean_abs_change'], cmap=\"vlag\", col_cluster=False)\n",
    "# plt.savefig('images/heatmap_mean_fr_change.png')"
   ]
  },
  {
   "cell_type": "code",
   "execution_count": null,
   "id": "c5f4dc26",
   "metadata": {},
   "outputs": [],
   "source": [
    "pca = PCA(n_components=2)\n",
    "components = pca.fit_transform(features_df)\n",
    "\n",
    "plt.figure(figsize=(14, 14))\n",
    "\n",
    "sns.scatterplot(x=components[:,0], y=components[:,1], hue=features_df.index.to_list())\n",
    "for i, ticker in enumerate(features_df.index):\n",
    "    plt.text(components[i,0], components[i,1], ticker, fontsize=8)\n",
    "\n",
    "# plt.savefig('images/clusters_PCA.png')"
   ]
  },
  {
   "cell_type": "code",
   "execution_count": null,
   "id": "7dcd26c2",
   "metadata": {},
   "outputs": [],
   "source": [
    "scaler = StandardScaler()\n",
    "features_scaled = scaler.fit_transform(features_df)\n",
    "\n",
    "n_clusters = 5\n",
    "kmeans = KMeans(n_clusters=n_clusters, random_state=42, n_init=10)\n",
    "cluster_labels = kmeans.fit_predict(features_scaled)\n",
    "\n",
    "features_df['cluster'] = cluster_labels"
   ]
  },
  {
   "cell_type": "code",
   "execution_count": null,
   "id": "20e13d28",
   "metadata": {},
   "outputs": [],
   "source": [
    "embedding = TSNE(n_components=2, random_state=42).fit_transform(features_scaled)"
   ]
  },
  {
   "cell_type": "code",
   "execution_count": null,
   "id": "a07af1e6",
   "metadata": {},
   "outputs": [],
   "source": [
    "plt.figure(figsize=(10, 6))\n",
    "sns.scatterplot(x=embedding[:, 0], y=embedding[:, 1], hue=cluster_labels, palette='tab10')\n",
    "for i, ticker in enumerate(tickers):\n",
    "    plt.text(embedding[i, 0], embedding[i, 1], ticker, fontsize=8, alpha=0.6)\n",
    "plt.title(\"Funding Rate Clusters (TSNE Projection)\")\n",
    "plt.xlabel(\"TSNE 1\")\n",
    "plt.ylabel(\"TSNE 2\")\n",
    "plt.legend(title=\"Cluster\", loc='best')\n",
    "plt.tight_layout()\n",
    "# plt.savefig('images/clusters_TSNE_KMeans.png')\n",
    "plt.show()"
   ]
  },
  {
   "cell_type": "code",
   "execution_count": null,
   "id": "d7fd0be5",
   "metadata": {},
   "outputs": [],
   "source": [
    "def plot_clusters(embedding, labels, title):\n",
    "    plt.figure(figsize=(10, 6))\n",
    "    sns.scatterplot(x=embedding[:, 0], y=embedding[:, 1], hue=labels, palette='tab10', legend='full')\n",
    "    for i, ticker in enumerate(tickers):\n",
    "        plt.text(embedding[i, 0], embedding[i, 1], ticker, fontsize=8, alpha=0.5)\n",
    "    plt.title(title)\n",
    "    plt.xlabel(\"UMAP 1\")\n",
    "    plt.ylabel(\"UMAP 2\")\n",
    "    plt.legend(title=\"Cluster\", loc=\"best\")\n",
    "    plt.tight_layout()\n",
    "    plt.show()"
   ]
  },
  {
   "cell_type": "code",
   "execution_count": null,
   "id": "5a9f3b95",
   "metadata": {},
   "outputs": [],
   "source": [
    "# --- DBSCAN ---\n",
    "dbscan = DBSCAN(eps=1.2, min_samples=3)\n",
    "db_labels = dbscan.fit_predict(features_scaled)\n",
    "plot_clusters(embedding, db_labels, \"DBSCAN Clustering\")\n",
    "\n",
    "# --- HDBSCAN ---\n",
    "hdb = hdbscan.HDBSCAN(min_cluster_size=3)\n",
    "hdb_labels = hdb.fit_predict(features_scaled)\n",
    "plot_clusters(embedding, hdb_labels, \"HDBSCAN Clustering\")\n",
    "\n",
    "# --- Agglomerative Clustering ---\n",
    "agg = AgglomerativeClustering(n_clusters=5)\n",
    "agg_labels = agg.fit_predict(features_scaled)\n",
    "plot_clusters(embedding, agg_labels, \"Agglomerative Clustering\")\n",
    "\n",
    "# --- Spectral Clustering ---\n",
    "spectral = SpectralClustering(n_clusters=5, assign_labels=\"discretize\", random_state=42)\n",
    "spectral_labels = spectral.fit_predict(features_scaled)\n",
    "plot_clusters(embedding, spectral_labels, \"Spectral Clustering\")"
   ]
  },
  {
   "cell_type": "markdown",
   "id": "224905da",
   "metadata": {},
   "source": [
    "### research, modeling"
   ]
  },
  {
   "cell_type": "code",
   "execution_count": 26,
   "id": "ebdb3edf",
   "metadata": {},
   "outputs": [],
   "source": [
    "df = data['ETHUSDT'].copy()"
   ]
  },
  {
   "cell_type": "code",
   "execution_count": 27,
   "id": "785ac3f2",
   "metadata": {},
   "outputs": [],
   "source": [
    "df['fundingRate'] = df['fundingRate'].shift(-1)\n",
    "df = df.iloc[:-1]\n",
    "\n",
    "df['hour_index'] = df['open_time'].str[11:13].astype(int) % 8 + 1\n",
    "\n",
    "df['basis'] = df['close_futr'] - df['close_spot']\n",
    "df['basis_relative'] = df['basis'] / df['close_futr']\n",
    "df['target'] = df['basis'].shift(2)\n",
    "df = df.iloc[2:]\n",
    "\n",
    "df.reset_index(drop=True, inplace=True)"
   ]
  },
  {
   "cell_type": "code",
   "execution_count": 28,
   "id": "63cca4c0",
   "metadata": {},
   "outputs": [],
   "source": [
    "features_df = pd.DataFrame([extract_features(df, i) for i in range(len(df))])"
   ]
  },
  {
   "cell_type": "code",
   "execution_count": 29,
   "id": "75938eba",
   "metadata": {},
   "outputs": [],
   "source": [
    "df['volume_ratio'] = df['volume_futr'] / df['volume_spot']\n",
    "df = pd.concat([df, features_df], axis=1)"
   ]
  },
  {
   "cell_type": "code",
   "execution_count": 30,
   "id": "56017a49",
   "metadata": {},
   "outputs": [],
   "source": [
    "df['sma_fr_7'] = df.fundingRate.rolling(8 * 7).mean().shift(1)\n",
    "df['sma_fr_3'] = df.fundingRate.rolling(8 * 3).mean().shift(1)\n",
    "\n",
    "df['sma_basis_14'] = df['basis'].rolling(14).mean().shift(1)\n",
    "df['sma_basis_7'] = df['basis'].rolling(7).mean().shift(1)\n",
    "df['sma_basis_3'] = df['basis'].rolling(3).mean().shift(1)\n",
    "\n",
    "windows = [7, 14, 28]\n",
    "for window in windows:\n",
    "    df[f'EMA_{window}'] = ema(df, window)\n",
    "    df[f'RSI_{window}'] = rsi(df, window)\n",
    "    df[f'MFI_{window}'] = mfi(df, window)"
   ]
  },
  {
   "cell_type": "code",
   "execution_count": 31,
   "id": "fbac29ee",
   "metadata": {},
   "outputs": [],
   "source": [
    "# del data leak\n",
    "df = df[df['hour_index'] != 8]"
   ]
  },
  {
   "cell_type": "code",
   "execution_count": 32,
   "id": "1c7c43df",
   "metadata": {},
   "outputs": [],
   "source": [
    "cols = [\n",
    "    'log_return', 'volatility', 'avg_volume_futr', 'avg_volume_spot',\n",
    "    'basis_mean', 'basis_std', 'hour_index', 'volume_ratio',\n",
    "    'sma_fr_3', 'sma_fr_7',\n",
    "    'sma_basis_3', 'sma_basis_7', 'sma_basis_14',\n",
    "    'RSI_7', 'MFI_7', 'EMA_7', \n",
    "    'RSI_14', 'MFI_14', 'EMA_14',\n",
    "    'RSI_28', 'MFI_28', 'EMA_28',\n",
    "]\n",
    "train_size = int(df.shape[0] * 0.8)\n",
    "x = df.iloc[:train_size][cols]\n",
    "y = df.iloc[:train_size]['target']\n",
    "\n",
    "test = df.iloc[train_size:]\n",
    "x_test = df.iloc[train_size:][cols]\n",
    "y_test = df.iloc[train_size:]['target']"
   ]
  },
  {
   "cell_type": "code",
   "execution_count": 34,
   "id": "6470307f",
   "metadata": {},
   "outputs": [
    {
     "data": {
      "text/plain": [
       "<catboost.core.CatBoostRegressor at 0x7ff55b6eb7a0>"
      ]
     },
     "execution_count": 34,
     "metadata": {},
     "output_type": "execute_result"
    }
   ],
   "source": [
    "kwargs = {'iterations': 200, 'depth': 4, 'verbose': False}\n",
    "model = CatBoostRegressor(**kwargs)\n",
    "model.fit(x, y)"
   ]
  },
  {
   "cell_type": "code",
   "execution_count": 35,
   "id": "9cd24af4",
   "metadata": {},
   "outputs": [
    {
     "data": {
      "text/html": [
       "<div>\n",
       "<style scoped>\n",
       "    .dataframe tbody tr th:only-of-type {\n",
       "        vertical-align: middle;\n",
       "    }\n",
       "\n",
       "    .dataframe tbody tr th {\n",
       "        vertical-align: top;\n",
       "    }\n",
       "\n",
       "    .dataframe thead th {\n",
       "        text-align: right;\n",
       "    }\n",
       "</style>\n",
       "<table border=\"1\" class=\"dataframe\">\n",
       "  <thead>\n",
       "    <tr style=\"text-align: right;\">\n",
       "      <th></th>\n",
       "      <th>feature</th>\n",
       "      <th>importance</th>\n",
       "    </tr>\n",
       "  </thead>\n",
       "  <tbody>\n",
       "    <tr>\n",
       "      <th>11</th>\n",
       "      <td>sma_basis_7</td>\n",
       "      <td>57.100434</td>\n",
       "    </tr>\n",
       "    <tr>\n",
       "      <th>10</th>\n",
       "      <td>sma_basis_3</td>\n",
       "      <td>24.749127</td>\n",
       "    </tr>\n",
       "    <tr>\n",
       "      <th>12</th>\n",
       "      <td>sma_basis_14</td>\n",
       "      <td>12.197333</td>\n",
       "    </tr>\n",
       "    <tr>\n",
       "      <th>18</th>\n",
       "      <td>EMA_14</td>\n",
       "      <td>3.007708</td>\n",
       "    </tr>\n",
       "    <tr>\n",
       "      <th>9</th>\n",
       "      <td>sma_fr_7</td>\n",
       "      <td>0.549275</td>\n",
       "    </tr>\n",
       "    <tr>\n",
       "      <th>19</th>\n",
       "      <td>RSI_28</td>\n",
       "      <td>0.326684</td>\n",
       "    </tr>\n",
       "    <tr>\n",
       "      <th>4</th>\n",
       "      <td>basis_mean</td>\n",
       "      <td>0.282556</td>\n",
       "    </tr>\n",
       "  </tbody>\n",
       "</table>\n",
       "</div>"
      ],
      "text/plain": [
       "         feature  importance\n",
       "11   sma_basis_7   57.100434\n",
       "10   sma_basis_3   24.749127\n",
       "12  sma_basis_14   12.197333\n",
       "18        EMA_14    3.007708\n",
       "9       sma_fr_7    0.549275\n",
       "19        RSI_28    0.326684\n",
       "4     basis_mean    0.282556"
      ]
     },
     "execution_count": 35,
     "metadata": {},
     "output_type": "execute_result"
    }
   ],
   "source": [
    "feats = pd.DataFrame()\n",
    "feats['feature'] = model.feature_names_\n",
    "feats['importance'] = model.feature_importances_\n",
    "feats.sort_values(by='importance', ascending=False).head(7)"
   ]
  },
  {
   "cell_type": "code",
   "execution_count": 36,
   "id": "7c9c8492",
   "metadata": {},
   "outputs": [
    {
     "data": {
      "text/plain": [
       "np.float64(0.15784188224191936)"
      ]
     },
     "execution_count": 36,
     "metadata": {},
     "output_type": "execute_result"
    }
   ],
   "source": [
    "preds_train = model.predict(x)\n",
    "smape(y, preds_train)"
   ]
  },
  {
   "cell_type": "code",
   "execution_count": 37,
   "id": "5dc8bf93",
   "metadata": {},
   "outputs": [
    {
     "data": {
      "text/plain": [
       "np.float64(0.12026311833669263)"
      ]
     },
     "execution_count": 37,
     "metadata": {},
     "output_type": "execute_result"
    }
   ],
   "source": [
    "preds = model.predict(x_test)\n",
    "test['preds'] = preds\n",
    "\n",
    "smape(test['target'], test['preds'])\n"
   ]
  },
  {
   "cell_type": "code",
   "execution_count": 38,
   "id": "8472db70",
   "metadata": {},
   "outputs": [
    {
     "data": {
      "text/html": [
       "<div>\n",
       "<style scoped>\n",
       "    .dataframe tbody tr th:only-of-type {\n",
       "        vertical-align: middle;\n",
       "    }\n",
       "\n",
       "    .dataframe tbody tr th {\n",
       "        vertical-align: top;\n",
       "    }\n",
       "\n",
       "    .dataframe thead th {\n",
       "        text-align: right;\n",
       "    }\n",
       "</style>\n",
       "<table border=\"1\" class=\"dataframe\">\n",
       "  <thead>\n",
       "    <tr style=\"text-align: right;\">\n",
       "      <th></th>\n",
       "      <th>count</th>\n",
       "      <th>mean</th>\n",
       "    </tr>\n",
       "    <tr>\n",
       "      <th>bin_preds</th>\n",
       "      <th></th>\n",
       "      <th></th>\n",
       "    </tr>\n",
       "  </thead>\n",
       "  <tbody>\n",
       "    <tr>\n",
       "      <th>(-2.8249999999999997, -1.628]</th>\n",
       "      <td>307</td>\n",
       "      <td>0.000048</td>\n",
       "    </tr>\n",
       "    <tr>\n",
       "      <th>(-1.628, -1.545]</th>\n",
       "      <td>306</td>\n",
       "      <td>0.000053</td>\n",
       "    </tr>\n",
       "    <tr>\n",
       "      <th>(-1.545, -1.44]</th>\n",
       "      <td>306</td>\n",
       "      <td>0.000057</td>\n",
       "    </tr>\n",
       "    <tr>\n",
       "      <th>(-1.44, -1.389]</th>\n",
       "      <td>306</td>\n",
       "      <td>0.000058</td>\n",
       "    </tr>\n",
       "    <tr>\n",
       "      <th>(-1.389, -1.325]</th>\n",
       "      <td>306</td>\n",
       "      <td>0.000057</td>\n",
       "    </tr>\n",
       "    <tr>\n",
       "      <th>(-1.325, -1.285]</th>\n",
       "      <td>306</td>\n",
       "      <td>0.000049</td>\n",
       "    </tr>\n",
       "    <tr>\n",
       "      <th>(-1.285, -1.251]</th>\n",
       "      <td>307</td>\n",
       "      <td>0.000053</td>\n",
       "    </tr>\n",
       "    <tr>\n",
       "      <th>(-1.251, -1.196]</th>\n",
       "      <td>306</td>\n",
       "      <td>0.000060</td>\n",
       "    </tr>\n",
       "    <tr>\n",
       "      <th>(-1.196, -1.154]</th>\n",
       "      <td>306</td>\n",
       "      <td>0.000054</td>\n",
       "    </tr>\n",
       "    <tr>\n",
       "      <th>(-1.154, -1.114]</th>\n",
       "      <td>306</td>\n",
       "      <td>0.000067</td>\n",
       "    </tr>\n",
       "    <tr>\n",
       "      <th>(-1.114, -1.06]</th>\n",
       "      <td>306</td>\n",
       "      <td>0.000065</td>\n",
       "    </tr>\n",
       "    <tr>\n",
       "      <th>(-1.06, -0.977]</th>\n",
       "      <td>306</td>\n",
       "      <td>0.000072</td>\n",
       "    </tr>\n",
       "    <tr>\n",
       "      <th>(-0.977, -0.899]</th>\n",
       "      <td>306</td>\n",
       "      <td>0.000079</td>\n",
       "    </tr>\n",
       "    <tr>\n",
       "      <th>(-0.899, -0.751]</th>\n",
       "      <td>307</td>\n",
       "      <td>0.000092</td>\n",
       "    </tr>\n",
       "    <tr>\n",
       "      <th>(-0.751, -0.576]</th>\n",
       "      <td>306</td>\n",
       "      <td>0.000098</td>\n",
       "    </tr>\n",
       "    <tr>\n",
       "      <th>(-0.576, 0.343]</th>\n",
       "      <td>306</td>\n",
       "      <td>0.000100</td>\n",
       "    </tr>\n",
       "    <tr>\n",
       "      <th>(0.343, 1.709]</th>\n",
       "      <td>306</td>\n",
       "      <td>0.000107</td>\n",
       "    </tr>\n",
       "    <tr>\n",
       "      <th>(1.709, 2.274]</th>\n",
       "      <td>306</td>\n",
       "      <td>0.000137</td>\n",
       "    </tr>\n",
       "    <tr>\n",
       "      <th>(2.274, 2.643]</th>\n",
       "      <td>306</td>\n",
       "      <td>0.000170</td>\n",
       "    </tr>\n",
       "    <tr>\n",
       "      <th>(2.643, 5.643]</th>\n",
       "      <td>307</td>\n",
       "      <td>0.000241</td>\n",
       "    </tr>\n",
       "  </tbody>\n",
       "</table>\n",
       "</div>"
      ],
      "text/plain": [
       "                               count      mean\n",
       "bin_preds                                     \n",
       "(-2.8249999999999997, -1.628]    307  0.000048\n",
       "(-1.628, -1.545]                 306  0.000053\n",
       "(-1.545, -1.44]                  306  0.000057\n",
       "(-1.44, -1.389]                  306  0.000058\n",
       "(-1.389, -1.325]                 306  0.000057\n",
       "(-1.325, -1.285]                 306  0.000049\n",
       "(-1.285, -1.251]                 307  0.000053\n",
       "(-1.251, -1.196]                 306  0.000060\n",
       "(-1.196, -1.154]                 306  0.000054\n",
       "(-1.154, -1.114]                 306  0.000067\n",
       "(-1.114, -1.06]                  306  0.000065\n",
       "(-1.06, -0.977]                  306  0.000072\n",
       "(-0.977, -0.899]                 306  0.000079\n",
       "(-0.899, -0.751]                 307  0.000092\n",
       "(-0.751, -0.576]                 306  0.000098\n",
       "(-0.576, 0.343]                  306  0.000100\n",
       "(0.343, 1.709]                   306  0.000107\n",
       "(1.709, 2.274]                   306  0.000137\n",
       "(2.274, 2.643]                   306  0.000170\n",
       "(2.643, 5.643]                   307  0.000241"
      ]
     },
     "execution_count": 38,
     "metadata": {},
     "output_type": "execute_result"
    }
   ],
   "source": [
    "train = df.iloc[:train_size]\n",
    "train['preds'] = model.predict(x)\n",
    "\n",
    "train['bin_preds'] = pd.qcut(train['preds'], q=20)\n",
    "train.groupby('bin_preds')['fundingRate'].agg(['count', 'mean'])"
   ]
  },
  {
   "cell_type": "code",
   "execution_count": 39,
   "id": "20f073c5",
   "metadata": {},
   "outputs": [
    {
     "data": {
      "text/html": [
       "<div>\n",
       "<style scoped>\n",
       "    .dataframe tbody tr th:only-of-type {\n",
       "        vertical-align: middle;\n",
       "    }\n",
       "\n",
       "    .dataframe tbody tr th {\n",
       "        vertical-align: top;\n",
       "    }\n",
       "\n",
       "    .dataframe thead th {\n",
       "        text-align: right;\n",
       "    }\n",
       "</style>\n",
       "<table border=\"1\" class=\"dataframe\">\n",
       "  <thead>\n",
       "    <tr style=\"text-align: right;\">\n",
       "      <th></th>\n",
       "      <th>count</th>\n",
       "      <th>mean</th>\n",
       "    </tr>\n",
       "    <tr>\n",
       "      <th>bin_preds</th>\n",
       "      <th></th>\n",
       "      <th></th>\n",
       "    </tr>\n",
       "  </thead>\n",
       "  <tbody>\n",
       "    <tr>\n",
       "      <th>(-2.51, -1.387]</th>\n",
       "      <td>154</td>\n",
       "      <td>-0.000008</td>\n",
       "    </tr>\n",
       "    <tr>\n",
       "      <th>(-1.387, -1.271]</th>\n",
       "      <td>153</td>\n",
       "      <td>0.000027</td>\n",
       "    </tr>\n",
       "    <tr>\n",
       "      <th>(-1.271, -1.167]</th>\n",
       "      <td>153</td>\n",
       "      <td>0.000029</td>\n",
       "    </tr>\n",
       "    <tr>\n",
       "      <th>(-1.167, -1.078]</th>\n",
       "      <td>153</td>\n",
       "      <td>0.000027</td>\n",
       "    </tr>\n",
       "    <tr>\n",
       "      <th>(-1.078, -0.987]</th>\n",
       "      <td>153</td>\n",
       "      <td>0.000032</td>\n",
       "    </tr>\n",
       "    <tr>\n",
       "      <th>(-0.987, -0.932]</th>\n",
       "      <td>153</td>\n",
       "      <td>0.000024</td>\n",
       "    </tr>\n",
       "    <tr>\n",
       "      <th>(-0.932, -0.873]</th>\n",
       "      <td>153</td>\n",
       "      <td>0.000025</td>\n",
       "    </tr>\n",
       "    <tr>\n",
       "      <th>(-0.873, -0.822]</th>\n",
       "      <td>153</td>\n",
       "      <td>0.000024</td>\n",
       "    </tr>\n",
       "    <tr>\n",
       "      <th>(-0.822, -0.725]</th>\n",
       "      <td>153</td>\n",
       "      <td>0.000017</td>\n",
       "    </tr>\n",
       "    <tr>\n",
       "      <th>(-0.725, 0.136]</th>\n",
       "      <td>154</td>\n",
       "      <td>0.000030</td>\n",
       "    </tr>\n",
       "  </tbody>\n",
       "</table>\n",
       "</div>"
      ],
      "text/plain": [
       "                  count      mean\n",
       "bin_preds                        \n",
       "(-2.51, -1.387]     154 -0.000008\n",
       "(-1.387, -1.271]    153  0.000027\n",
       "(-1.271, -1.167]    153  0.000029\n",
       "(-1.167, -1.078]    153  0.000027\n",
       "(-1.078, -0.987]    153  0.000032\n",
       "(-0.987, -0.932]    153  0.000024\n",
       "(-0.932, -0.873]    153  0.000025\n",
       "(-0.873, -0.822]    153  0.000024\n",
       "(-0.822, -0.725]    153  0.000017\n",
       "(-0.725, 0.136]     154  0.000030"
      ]
     },
     "execution_count": 39,
     "metadata": {},
     "output_type": "execute_result"
    }
   ],
   "source": [
    "test['bin_preds'] = pd.qcut(test['preds'], q=10)\n",
    "test.groupby('bin_preds')['fundingRate'].agg(['count', 'mean'])"
   ]
  },
  {
   "cell_type": "code",
   "execution_count": 40,
   "id": "9e2d71f3",
   "metadata": {},
   "outputs": [],
   "source": [
    "train['bin_preds'] = pd.qcut(train['preds'], q=50)\n",
    "mapping = train.groupby('bin_preds')['fundingRate'].agg(['mean'])\n",
    "mapping = mapping.to_dict()\n",
    "\n",
    "def process_prediction(x, mapping):\n",
    "    prediction = x\n",
    "    for key, value in mapping['mean'].items():\n",
    "        left = key.left\n",
    "        right = key.right\n",
    "        if prediction > left and prediction < right:\n",
    "            return value\n",
    "    return 0.0001\n",
    "\n",
    "train['preds_fr'] = train['preds'].map(lambda x: process_prediction(x, mapping))\n",
    "test['preds_fr'] = test['preds'].map(lambda x: process_prediction(x, mapping))"
   ]
  },
  {
   "cell_type": "code",
   "execution_count": 45,
   "id": "d8c69934",
   "metadata": {},
   "outputs": [
    {
     "name": "stdout",
     "output_type": "stream",
     "text": [
      "1 0.14542237315958456 0.4643104093584603\n",
      "2 0.160050046905369 0.4551336866159632\n",
      "3 0.15510389415039416 0.4390774636765799\n",
      "4 0.1594450304002562 0.4345851125554674\n",
      "5 0.1593838937329969 0.42987529245382844\n",
      "6 0.16663078765609232 0.4296968244995525\n",
      "7 0.15885967330550063 0.4291699010690266\n"
     ]
    }
   ],
   "source": [
    "for i in range(1, 8):\n",
    "    smape_basis = smape(train[train['hour_index'] == i]['target'], train[train['hour_index'] == i]['preds'])\n",
    "    smape_fr = smape(train[train['hour_index'] == i]['fundingRate'], train[train['hour_index'] == i]['preds_fr'])\n",
    "    print(i, smape_basis, smape_fr)"
   ]
  },
  {
   "cell_type": "code",
   "execution_count": 46,
   "id": "9511a777",
   "metadata": {},
   "outputs": [
    {
     "name": "stdout",
     "output_type": "stream",
     "text": [
      "1 0.11126622798530474 1.06322125933456\n",
      "2 0.11785766870226927 1.0658978109574033\n",
      "3 0.12101112018896662 1.0772447979562056\n",
      "4 0.13253416362545203 1.0714623240578942\n",
      "5 0.1163576378594303 1.0759677233830396\n",
      "6 0.1184092305987197 1.0790647157120223\n",
      "7 0.12436469770560345 1.0722698610053771\n"
     ]
    }
   ],
   "source": [
    "for i in range(1, 8):\n",
    "    smape_basis = smape(test[test['hour_index'] == i]['target'], test[test['hour_index'] == i]['preds'])\n",
    "    smape_fr = smape(test[test['hour_index'] == i]['fundingRate'], test[test['hour_index'] == i]['preds_fr'])\n",
    "    print(i, smape_basis, smape_fr)"
   ]
  },
  {
   "cell_type": "code",
   "execution_count": 47,
   "id": "f0b4e94b",
   "metadata": {},
   "outputs": [
    {
     "data": {
      "text/plain": [
       "np.float64(1.1978145717789466)"
      ]
     },
     "execution_count": 47,
     "metadata": {},
     "output_type": "execute_result"
    }
   ],
   "source": [
    "smape(test.fundingRate, [0.0001] * len(test))"
   ]
  },
  {
   "cell_type": "code",
   "execution_count": null,
   "id": "d0fb5a74",
   "metadata": {},
   "outputs": [
    {
     "data": {
      "text/plain": [
       "np.float64(1.1277535768704698)"
      ]
     },
     "execution_count": 65,
     "metadata": {},
     "output_type": "execute_result"
    }
   ],
   "source": [
    "smape(test.fundingRate, test.fundingRate.rolling(8 * 3).mean().shift(7))"
   ]
  },
  {
   "cell_type": "code",
   "execution_count": 54,
   "id": "a1228f90",
   "metadata": {},
   "outputs": [
    {
     "data": {
      "text/plain": [
       "np.float64(1.072167048679954)"
      ]
     },
     "execution_count": 54,
     "metadata": {},
     "output_type": "execute_result"
    }
   ],
   "source": [
    "smape(test.fundingRate, test.preds_fr)"
   ]
  },
  {
   "cell_type": "code",
   "execution_count": 66,
   "id": "b7f88bce",
   "metadata": {},
   "outputs": [
    {
     "data": {
      "text/plain": [
       "array([[1.        , 0.68832924],\n",
       "       [0.68832924, 1.        ]])"
      ]
     },
     "execution_count": 66,
     "metadata": {},
     "output_type": "execute_result"
    }
   ],
   "source": [
    "np.corrcoef(train.fundingRate, train.basis)"
   ]
  },
  {
   "cell_type": "code",
   "execution_count": 67,
   "id": "80715952",
   "metadata": {},
   "outputs": [
    {
     "data": {
      "text/plain": [
       "array([[1.        , 0.18272521],\n",
       "       [0.18272521, 1.        ]])"
      ]
     },
     "execution_count": 67,
     "metadata": {},
     "output_type": "execute_result"
    }
   ],
   "source": [
    "np.corrcoef(test.fundingRate, test.basis)"
   ]
  },
  {
   "cell_type": "code",
   "execution_count": null,
   "id": "24776258",
   "metadata": {},
   "outputs": [],
   "source": []
  }
 ],
 "metadata": {
  "kernelspec": {
   "display_name": ".venv",
   "language": "python",
   "name": "python3"
  },
  "language_info": {
   "codemirror_mode": {
    "name": "ipython",
    "version": 3
   },
   "file_extension": ".py",
   "mimetype": "text/x-python",
   "name": "python",
   "nbconvert_exporter": "python",
   "pygments_lexer": "ipython3",
   "version": "3.12.3"
  }
 },
 "nbformat": 4,
 "nbformat_minor": 5
}
